{
  "cells": [
    {
      "cell_type": "code",
      "execution_count": 17,
      "metadata": {
        "id": "koJnpI1P_2OX"
      },
      "outputs": [],
      "source": [
        "import requests\n",
        "import time\n",
        "import csv\n",
        "\n",
        "url = \"https://zillow-com1.p.rapidapi.com/propertyExtendedSearch\"\n",
        "\n",
        "headers = {\n",
        "\t\"x-rapidapi-key\": \"YOUR API KEY HERE\",\n",
        "\t\"x-rapidapi-host\": \"zillow-com1.p.rapidapi.com\"\n",
        "}\n",
        "\n",
        "\n",
        "\n"
      ]
    },
    {
      "cell_type": "code",
      "execution_count": 18,
      "metadata": {
        "id": "KoOkrVM6FNV5"
      },
      "outputs": [],
      "source": [
        "# Initial query parameters\n",
        "querystring = {\n",
        "    \"location\": \"New York, NY\",\n",
        "    \"limit\": 50,\n",
        "    \"page\": 1  # Start from page 1\n",
        "}\n",
        "\n",
        "response = requests.get(url, headers=headers, params=querystring)\n",
        "\n"
      ]
    },
    {
      "cell_type": "code",
      "execution_count": 20,
      "metadata": {
        "colab": {
          "base_uri": "https://localhost:8080/"
        },
        "id": "8vsBm2UTCL13",
        "outputId": "f4879697-3e6b-40db-9107-736d53e2d7ce"
      },
      "outputs": [
        {
          "name": "stdout",
          "output_type": "stream",
          "text": [
            "Fetched 41 records from page 1\n",
            "Waiting 30 seconds before the next request...\n",
            "Fetched 41 records from page 2\n",
            "Waiting 30 seconds before the next request...\n",
            "Fetched 41 records from page 3\n",
            "Waiting 30 seconds before the next request...\n",
            "Fetched 41 records from page 4\n",
            "Waiting 30 seconds before the next request...\n",
            "Fetched 41 records from page 5\n",
            "Waiting 30 seconds before the next request...\n",
            "Fetched 41 records from page 6\n",
            "Waiting 30 seconds before the next request...\n",
            "Fetched 41 records from page 7\n",
            "Waiting 30 seconds before the next request...\n",
            "Fetched 41 records from page 8\n",
            "Waiting 30 seconds before the next request...\n",
            "Fetched 41 records from page 9\n",
            "Waiting 30 seconds before the next request...\n",
            "Fetched 41 records from page 10\n",
            "Waiting 30 seconds before the next request...\n",
            "Fetched 41 records from page 11\n",
            "Waiting 30 seconds before the next request...\n",
            "Fetched 41 records from page 12\n",
            "Waiting 30 seconds before the next request...\n",
            "Fetched 41 records from page 13\n",
            "Waiting 30 seconds before the next request...\n",
            "Fetched 41 records from page 14\n",
            "Waiting 30 seconds before the next request...\n",
            "Fetched 41 records from page 15\n",
            "Waiting 30 seconds before the next request...\n",
            "Fetched 41 records from page 16\n",
            "Waiting 30 seconds before the next request...\n",
            "Fetched 41 records from page 17\n",
            "Waiting 30 seconds before the next request...\n",
            "Fetched 41 records from page 18\n",
            "Waiting 30 seconds before the next request...\n",
            "Fetched 41 records from page 19\n",
            "Waiting 30 seconds before the next request...\n",
            "Fetched 41 records from page 20\n",
            "Reached the last page.\n",
            "✅ Data saved to zillow_all_properties.csv\n"
          ]
        }
      ],
      "source": [
        "# CSV File setup\n",
        "csv_filename = \"zillow_all_properties.csv\"\n",
        "\n",
        "with open(csv_filename, mode=\"w\", newline=\"\", encoding=\"utf-8\") as file:\n",
        "    csv_writer = csv.writer(file)\n",
        "    header_written = False\n",
        "\n",
        "    while True:\n",
        "        # API request\n",
        "        response = requests.get(url, headers=headers, params=querystring)\n",
        "\n",
        "        if response.status_code != 200:\n",
        "            print(f\"Error: {response.status_code}, {response.text}\")\n",
        "            break  # Stop if there's an error\n",
        "\n",
        "        data = response.json()\n",
        "\n",
        "        # Check if 'props' exists and is a list\n",
        "        if \"props\" in data and isinstance(data[\"props\"], list):\n",
        "            if not header_written and data[\"props\"]:\n",
        "                csv_writer.writerow(data[\"props\"][0].keys())  # Write header\n",
        "                header_written = True\n",
        "\n",
        "            for record in data[\"props\"]:\n",
        "                csv_writer.writerow(record.values())\n",
        "\n",
        "            print(f\"Fetched {len(data['props'])} records from page {querystring['page']}\")\n",
        "\n",
        "        else:\n",
        "            print(f\"No more results on page {querystring['page']} or unexpected response format.\")\n",
        "            break\n",
        "\n",
        "        # Check if we've reached the last page\n",
        "        current_page = data.get(\"currentPage\", querystring[\"page\"])\n",
        "        total_pages = data.get(\"totalPages\", 1)\n",
        "\n",
        "        if current_page >= total_pages:\n",
        "            print(\"Reached the last page.\")\n",
        "            break\n",
        "\n",
        "        # Move to the next page\n",
        "        querystring[\"page\"] += 1\n",
        "\n",
        "        # Sleep for 30 seconds before the next request\n",
        "        print(\"Waiting 30 seconds before the next request...\")\n",
        "        time.sleep(30)\n",
        "\n",
        "print(f\"✅ Data saved to {csv_filename}\")\n"
      ]
    },
    {
      "cell_type": "code",
      "execution_count": null,
      "metadata": {
        "id": "MNlxMGXsJNX8"
      },
      "outputs": [],
      "source": []
    }
  ],
  "metadata": {
    "colab": {
      "provenance": []
    },
    "kernelspec": {
      "display_name": "Python 3",
      "name": "python3"
    },
    "language_info": {
      "name": "python"
    }
  },
  "nbformat": 4,
  "nbformat_minor": 0
}
